{
 "cells": [
  {
   "cell_type": "code",
   "execution_count": null,
   "id": "3d0897e1",
   "metadata": {},
   "outputs": [],
   "source": [
    "# KS Jothisri"
   ]
  },
  {
   "cell_type": "code",
   "execution_count": null,
   "id": "96393649",
   "metadata": {},
   "outputs": [],
   "source": [
    "# print 'CORRECT\" if i==10'"
   ]
  },
  {
   "cell_type": "code",
   "execution_count": 45,
   "id": "0626e2ff",
   "metadata": {},
   "outputs": [
    {
     "name": "stdout",
     "output_type": "stream",
     "text": [
      "Value: 10\n",
      "Correct\n"
     ]
    }
   ],
   "source": [
    "i=10\n",
    "if i==10:\n",
    "    print(\"Value:\",i)\n",
    "    print(\"Correct\")"
   ]
  },
  {
   "cell_type": "code",
   "execution_count": null,
   "id": "9b2b6ad2",
   "metadata": {},
   "outputs": [],
   "source": [
    "# Check the password, using if and else"
   ]
  },
  {
   "cell_type": "code",
   "execution_count": 4,
   "id": "d2cfb736",
   "metadata": {},
   "outputs": [
    {
     "name": "stdout",
     "output_type": "stream",
     "text": [
      "Enter the Password:HOPE@123\n",
      "Your Password is correct\n"
     ]
    }
   ],
   "source": [
    "passcode='HOPE@123'\n",
    "inp=str(input(\"Enter the Password:\"))\n",
    "if(inp==passcode):\n",
    "    print(\"Your Password is correct\")\n",
    "else:\n",
    "    print(\"Your Password is Incorrecct\")\n",
    "    \n"
   ]
  },
  {
   "cell_type": "code",
   "execution_count": 5,
   "id": "fca99d14",
   "metadata": {},
   "outputs": [],
   "source": [
    "# Category the people by their age like Children, adult, Citizen, Senior Citizen"
   ]
  },
  {
   "cell_type": "code",
   "execution_count": 32,
   "id": "9e8da7b6",
   "metadata": {},
   "outputs": [
    {
     "name": "stdout",
     "output_type": "stream",
     "text": [
      "Age: 20\n",
      "Adult\n"
     ]
    }
   ],
   "source": [
    "i=20\n",
    "print(\"Age:\",i)\n",
    "if(i<=5):\n",
    "    print(\"Children\")\n",
    "elif(i<=25):\n",
    "    print(\"Adult\")\n",
    "elif(i<=40):\n",
    "    print(\"Citizen\")\n",
    "else:\n",
    "    print(\"Senior Citizen\")\n",
    "    "
   ]
  },
  {
   "cell_type": "code",
   "execution_count": 33,
   "id": "552c9d02",
   "metadata": {},
   "outputs": [],
   "source": [
    "# Find whether given number is positive or negarive"
   ]
  },
  {
   "cell_type": "code",
   "execution_count": 41,
   "id": "78f5e9a2",
   "metadata": {},
   "outputs": [
    {
     "name": "stdout",
     "output_type": "stream",
     "text": [
      "Enter Any Number: 1\n",
      "No is Positive\n"
     ]
    }
   ],
   "source": [
    "num=int(input(\"Enter Any Number: \"))\n",
    "if(num>0):\n",
    "    print(\"No is Positive\")\n",
    "else:\n",
    "    print(\"No is Negative\")"
   ]
  },
  {
   "cell_type": "code",
   "execution_count": 42,
   "id": "2ee23a62",
   "metadata": {},
   "outputs": [],
   "source": [
    "#check whether the given number is divisible by 5"
   ]
  },
  {
   "cell_type": "code",
   "execution_count": 44,
   "id": "b1656d9b",
   "metadata": {},
   "outputs": [
    {
     "name": "stdout",
     "output_type": "stream",
     "text": [
      "Enter a number to check:22\n",
      "No is not divisible by 5\n"
     ]
    }
   ],
   "source": [
    "num1=int(input(\"Enter a number to check:\"))\n",
    "if (num1%5==0):\n",
    "    print(\"No is divisible by 5\")\n",
    "else:\n",
    "    print(\"No is not divisible by 5\")\n"
   ]
  },
  {
   "cell_type": "code",
   "execution_count": null,
   "id": "257d6371",
   "metadata": {},
   "outputs": [],
   "source": []
  }
 ],
 "metadata": {
  "kernelspec": {
   "display_name": "Python 3 (ipykernel)",
   "language": "python",
   "name": "python3"
  },
  "language_info": {
   "codemirror_mode": {
    "name": "ipython",
    "version": 3
   },
   "file_extension": ".py",
   "mimetype": "text/x-python",
   "name": "python",
   "nbconvert_exporter": "python",
   "pygments_lexer": "ipython3",
   "version": "3.11.5"
  }
 },
 "nbformat": 4,
 "nbformat_minor": 5
}
