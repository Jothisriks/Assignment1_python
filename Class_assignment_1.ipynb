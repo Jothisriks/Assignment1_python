{
 "cells": [
  {
   "cell_type": "code",
   "execution_count": 1,
   "id": "9458413a",
   "metadata": {},
   "outputs": [],
   "source": [
    "# Name : KS Jothisri"
   ]
  },
  {
   "cell_type": "code",
   "execution_count": 2,
   "id": "24119224",
   "metadata": {},
   "outputs": [],
   "source": [
    "# Create a Class and function, and list out the items in the list"
   ]
  },
  {
   "cell_type": "code",
   "execution_count": 4,
   "id": "9cdc44bc",
   "metadata": {},
   "outputs": [],
   "source": [
    "class SubfieldsInAI():\n",
    "    def Subfields():\n",
    "        print(\"Sub-fields in AI are:\")\n",
    "        lists=[\"Machine Learning\",\"Neural Networks\",\"Vision\",\"Robotics\",\"Speech Processing\", \"Natural Language Prcocessing\"]\n",
    "        for temp in lists:\n",
    "            print(temp)"
   ]
  },
  {
   "cell_type": "code",
   "execution_count": 5,
   "id": "f698cf1b",
   "metadata": {},
   "outputs": [
    {
     "name": "stdout",
     "output_type": "stream",
     "text": [
      "Sub-fields in AI are:\n",
      "Machine Learning\n",
      "Neural Networks\n",
      "Vision\n",
      "Robotics\n",
      "Speech Processing\n",
      "Natural Language Prcocessing\n"
     ]
    }
   ],
   "source": [
    "SubfieldsInAI.Subfields()"
   ]
  },
  {
   "cell_type": "code",
   "execution_count": 6,
   "id": "685e5498",
   "metadata": {},
   "outputs": [],
   "source": [
    "# Create a function that checks whether the given number is odd or Even"
   ]
  },
  {
   "cell_type": "code",
   "execution_count": 7,
   "id": "b1d432cf",
   "metadata": {},
   "outputs": [],
   "source": [
    "class OddEven():\n",
    "    def oddEven():\n",
    "        num=int(input(\"Enter a Number:\"))\n",
    "        if (num%2==1):\n",
    "            print(num, \"is Odd Number\")\n",
    "        else:\n",
    "            print(num, \"is Even Number\")   "
   ]
  },
  {
   "cell_type": "code",
   "execution_count": 8,
   "id": "4497fe5c",
   "metadata": {},
   "outputs": [
    {
     "name": "stdout",
     "output_type": "stream",
     "text": [
      "Enter a Number:52452\n",
      "52452 is Even Number\n"
     ]
    }
   ],
   "source": [
    "OddEven.oddEven()"
   ]
  },
  {
   "cell_type": "code",
   "execution_count": 9,
   "id": "fe5c51e9",
   "metadata": {},
   "outputs": [],
   "source": [
    "# Create a class and function that tells eligibility for Male and Female according to their age limit like 21 for Male and 18 for Female"
   ]
  },
  {
   "cell_type": "code",
   "execution_count": 10,
   "id": "b191b94d",
   "metadata": {},
   "outputs": [],
   "source": [
    "class ELigibilityForMarriage():\n",
    "    def Eligible():\n",
    "        sex=input(\"Your Gender:\").lower()\n",
    "        age=int(input(\"Your Age:\"))\n",
    "        if (sex in (\"male\",\"m\")):\n",
    "            if(age<21):\n",
    "                print(\"NOT ELIGIBLE\")\n",
    "            else:\n",
    "                print(\"ELIGIBLE\")\n",
    "        elif(sex in (\"female\",\"f\")):\n",
    "                if(age<18):\n",
    "                    print(\"NOT ELGIBILE\")\n",
    "                else:\n",
    "                    print(\"ELIGIBLE\")"
   ]
  },
  {
   "cell_type": "code",
   "execution_count": 11,
   "id": "c484e31b",
   "metadata": {},
   "outputs": [
    {
     "name": "stdout",
     "output_type": "stream",
     "text": [
      "Your Gender:Male\n",
      "Your Age:20\n",
      "NOT ELIGIBLE\n"
     ]
    }
   ],
   "source": [
    "ELigibilityForMarriage.Eligible()"
   ]
  },
  {
   "cell_type": "code",
   "execution_count": 12,
   "id": "3a265ea1",
   "metadata": {},
   "outputs": [],
   "source": [
    "# Create the class and function for calculate the percentage of 10th Mark"
   ]
  },
  {
   "cell_type": "code",
   "execution_count": 13,
   "id": "476d9e47",
   "metadata": {},
   "outputs": [],
   "source": [
    "class FindPercentage():\n",
    "    def percentage():\n",
    "        sub1=int(input(\"Subject1= \"))\n",
    "        sub2=int(input(\"Subject2= \"))\n",
    "        sub3=int(input(\"Subject3= \"))\n",
    "        sub4=int(input(\"Subject4= \"))\n",
    "        sub5=int(input(\"Subject5= \"))\n",
    "        tot=sub1+sub2+sub3+sub4+sub5\n",
    "        per=float(tot/5)\n",
    "        print(\"Total : \",tot)\n",
    "        print(\"Percentage : \",end=\"\")\n",
    "        print(\"{0:.14f}\".format(per))"
   ]
  },
  {
   "cell_type": "code",
   "execution_count": 14,
   "id": "17a23b65",
   "metadata": {},
   "outputs": [
    {
     "name": "stdout",
     "output_type": "stream",
     "text": [
      "Subject1= 98\n",
      "Subject2= 87\n",
      "Subject3= 95\n",
      "Subject4= 95\n",
      "Subject5= 93\n",
      "Total :  468\n",
      "Percentage : 93.59999999999999\n"
     ]
    }
   ],
   "source": [
    "FindPercentage.percentage()"
   ]
  },
  {
   "cell_type": "code",
   "execution_count": 15,
   "id": "e3af6703",
   "metadata": {},
   "outputs": [],
   "source": [
    "# Create a Class and Funtion for print area and perimeter of triangle "
   ]
  },
  {
   "cell_type": "code",
   "execution_count": 16,
   "id": "960066dc",
   "metadata": {},
   "outputs": [],
   "source": [
    "class triangle():\n",
    "    def triangle():\n",
    "        height=int(input(\"Height:\"))\n",
    "        breadth1=int(input(\"Breadth:\"))\n",
    "        height1=2\n",
    "        height2=4\n",
    "        breadth=4\n",
    "        area=float((height*breadth1)/2)\n",
    "        perimeter=height1+height2+breadth\n",
    "        print(\"Area Formula: (Height*Breadth)/2\")\n",
    "        print(\"Area of Triangle:  \",area)\n",
    "        print(\"Height1:\",height1)\n",
    "        print(\"Height2:\",height2)\n",
    "        print(\"Breadth:\",breadth)\n",
    "        print(\"Perimeter Formula: Height1+Height2+Breadth\")\n",
    "        print(\"Perimeter of Triangle:\",perimeter)\n",
    "\n"
   ]
  },
  {
   "cell_type": "code",
   "execution_count": 17,
   "id": "3aa4f759",
   "metadata": {},
   "outputs": [
    {
     "name": "stdout",
     "output_type": "stream",
     "text": [
      "Height:32\n",
      "Breadth:34\n",
      "Area Formula: (Height*Breadth)/2\n",
      "Area of Triangle:   544.0\n",
      "Height1: 2\n",
      "Height2: 4\n",
      "Breadth: 4\n",
      "Perimeter Formula: Height1+Height2+Breadth\n",
      "Perimeter of Triangle: 10\n"
     ]
    }
   ],
   "source": [
    "triangle.triangle()"
   ]
  },
  {
   "cell_type": "code",
   "execution_count": null,
   "id": "5fa64c4c",
   "metadata": {},
   "outputs": [],
   "source": []
  }
 ],
 "metadata": {
  "kernelspec": {
   "display_name": "Python 3 (ipykernel)",
   "language": "python",
   "name": "python3"
  },
  "language_info": {
   "codemirror_mode": {
    "name": "ipython",
    "version": 3
   },
   "file_extension": ".py",
   "mimetype": "text/x-python",
   "name": "python",
   "nbconvert_exporter": "python",
   "pygments_lexer": "ipython3",
   "version": "3.11.5"
  }
 },
 "nbformat": 4,
 "nbformat_minor": 5
}
