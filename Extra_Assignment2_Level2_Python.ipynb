{
 "cells": [
  {
   "cell_type": "markdown",
   "id": "c6c3333b",
   "metadata": {},
   "source": [
    "Name : Ks Jothisri"
   ]
  },
  {
   "cell_type": "code",
   "execution_count": 1,
   "id": "78101332",
   "metadata": {},
   "outputs": [],
   "source": [
    "# Print 0 to 20 by using range"
   ]
  },
  {
   "cell_type": "code",
   "execution_count": 19,
   "id": "5663ae6a",
   "metadata": {},
   "outputs": [
    {
     "name": "stdout",
     "output_type": "stream",
     "text": [
      "0\n",
      "1\n",
      "2\n",
      "3\n",
      "4\n",
      "5\n",
      "6\n",
      "7\n",
      "8\n",
      "9\n",
      "10\n",
      "11\n",
      "12\n",
      "13\n",
      "14\n",
      "15\n",
      "16\n",
      "17\n",
      "18\n",
      "19\n"
     ]
    }
   ],
   "source": [
    "\n",
    "for rang in range(0,20):\n",
    "    print (rang)"
   ]
  },
  {
   "cell_type": "code",
   "execution_count": 11,
   "id": "871cb53e",
   "metadata": {},
   "outputs": [],
   "source": [
    "#print range 10 to 20"
   ]
  },
  {
   "cell_type": "code",
   "execution_count": 22,
   "id": "a8a156d8",
   "metadata": {},
   "outputs": [
    {
     "name": "stdout",
     "output_type": "stream",
     "text": [
      "10  11  12  13  14  15  16  17  18  19  "
     ]
    }
   ],
   "source": [
    "for rang in range(10,20):\n",
    "    print(rang,\" \",  end='')\n",
    "    "
   ]
  },
  {
   "cell_type": "code",
   "execution_count": 23,
   "id": "381bad9e",
   "metadata": {},
   "outputs": [],
   "source": [
    "#print number of items in the list by using \"len\""
   ]
  },
  {
   "cell_type": "code",
   "execution_count": 69,
   "id": "9f2a6969",
   "metadata": {},
   "outputs": [
    {
     "name": "stdout",
     "output_type": "stream",
     "text": [
      "[10, 20, 14, 55, 43, 87, 76]\n",
      "Number of item in the List2:\n",
      "7\n"
     ]
    }
   ],
   "source": [
    "li=[10, 20, 14, 55, 43, 87, 76]\n",
    "print(li) \n",
    "print(\"Number of item in the List2:\")\n",
    "s = 0\n",
    "for i, a in enumerate(li):\n",
    "    s += 1\n",
    "print(s)\n",
    "\n",
    " \n",
    "\n"
   ]
  },
  {
   "cell_type": "code",
   "execution_count": 128,
   "id": "8c2dc1a3",
   "metadata": {},
   "outputs": [
    {
     "name": "stdout",
     "output_type": "stream",
     "text": [
      "Artificialinterlligence\n",
      "A\n",
      "r\n",
      "t\n",
      "i\n",
      "f\n",
      "i\n",
      "c\n",
      "i\n",
      "a\n",
      "l\n",
      "i\n",
      "n\n",
      "t\n",
      "e\n",
      "r\n",
      "l\n",
      "l\n",
      "i\n",
      "g\n",
      "e\n",
      "n\n",
      "c\n",
      "e\n"
     ]
    }
   ],
   "source": [
    "#print list\n",
    "list1=[\"Artificialinterlligence\"]\n",
    "print(''.join(list1))\n",
    "#[print((i,end='') for i in list1)]\n",
    "for x in list1:\n",
    "    print(*x,sep=\"\\n\")\n",
    "\n"
   ]
  },
  {
   "cell_type": "code",
   "execution_count": 130,
   "id": "7e92726b",
   "metadata": {},
   "outputs": [
    {
     "name": "stdout",
     "output_type": "stream",
     "text": [
      "-Your Name-\n",
      "-Your Age-\n",
      "-Your Profession-\n"
     ]
    }
   ],
   "source": [
    "nam=\"-Your Name-\"\n",
    "agee=\"-Your Age-\"\n",
    "prof=\"-Your Profession-\"\n",
    "print(nam)\n",
    "print(agee)\n",
    "print(prof)"
   ]
  },
  {
   "cell_type": "code",
   "execution_count": 131,
   "id": "2e211ff4",
   "metadata": {},
   "outputs": [],
   "source": [
    "#print mixtured tuple"
   ]
  },
  {
   "cell_type": "code",
   "execution_count": 133,
   "id": "37aedc33",
   "metadata": {
    "scrolled": true
   },
   "outputs": [
    {
     "name": "stdout",
     "output_type": "stream",
     "text": [
      "(1, 'Welcome', 2, 'Hope')\n"
     ]
    }
   ],
   "source": [
    "my_tuple=(1,'Welcome',2,\"Hope\")\n",
    "print(my_tuple)"
   ]
  },
  {
   "cell_type": "code",
   "execution_count": 140,
   "id": "86d14078",
   "metadata": {},
   "outputs": [
    {
     "name": "stdout",
     "output_type": "stream",
     "text": [
      "((0, 1, 2, 3), ('python', 'HOPE'))\n"
     ]
    }
   ],
   "source": [
    "tuple1=(0,1,2,3)\n",
    "tuple2=('python','HOPE')\n",
    "print((tuple1,tuple2))"
   ]
  },
  {
   "cell_type": "code",
   "execution_count": 141,
   "id": "619a9caa",
   "metadata": {},
   "outputs": [],
   "source": [
    "#print Odd numbers in the list"
   ]
  },
  {
   "cell_type": "code",
   "execution_count": 147,
   "id": "1106d139",
   "metadata": {},
   "outputs": [
    {
     "name": "stdout",
     "output_type": "stream",
     "text": [
      "[20, 10, 16, 19, 25, 1, 276, 188]\n",
      "19 is Odd\n",
      "25 is Odd\n",
      "1 is Odd\n"
     ]
    }
   ],
   "source": [
    "list_odd=[20,10,16,19,25,1,276,188]\n",
    "print(list_odd)\n",
    "for i in list_odd:\n",
    "    if(i%2==1):\n",
    "        print(i ,\"is Odd\")"
   ]
  },
  {
   "cell_type": "code",
   "execution_count": 148,
   "id": "ddbe50b6",
   "metadata": {},
   "outputs": [],
   "source": [
    "#print Even Numbers in the list"
   ]
  },
  {
   "cell_type": "code",
   "execution_count": 149,
   "id": "dbb2765d",
   "metadata": {},
   "outputs": [
    {
     "name": "stdout",
     "output_type": "stream",
     "text": [
      "[20, 10, 16, 19, 25, 1, 276, 188]\n",
      "20 is Even\n",
      "10 is Even\n",
      "16 is Even\n",
      "276 is Even\n",
      "188 is Even\n"
     ]
    }
   ],
   "source": [
    "list_even=[20,10,16,19,25,1,276,188]\n",
    "print(list_even)\n",
    "for i in list_even:\n",
    "    if(i%2==0):\n",
    "        print(i ,\"is Even\")"
   ]
  },
  {
   "cell_type": "code",
   "execution_count": null,
   "id": "fcb3ee7e",
   "metadata": {},
   "outputs": [],
   "source": []
  }
 ],
 "metadata": {
  "kernelspec": {
   "display_name": "Python 3 (ipykernel)",
   "language": "python",
   "name": "python3"
  },
  "language_info": {
   "codemirror_mode": {
    "name": "ipython",
    "version": 3
   },
   "file_extension": ".py",
   "mimetype": "text/x-python",
   "name": "python",
   "nbconvert_exporter": "python",
   "pygments_lexer": "ipython3",
   "version": "3.11.5"
  }
 },
 "nbformat": 4,
 "nbformat_minor": 5
}
