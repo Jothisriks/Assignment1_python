{
 "cells": [
  {
   "cell_type": "markdown",
   "id": "223869a9",
   "metadata": {},
   "source": [
    "# Name : KS Jothisri"
   ]
  },
  {
   "cell_type": "code",
   "execution_count": 1,
   "id": "09f5bdec",
   "metadata": {},
   "outputs": [],
   "source": [
    "#print Statement\n"
   ]
  },
  {
   "cell_type": "code",
   "execution_count": 2,
   "id": "87aa3b5e",
   "metadata": {},
   "outputs": [
    {
     "name": "stdout",
     "output_type": "stream",
     "text": [
      "Hope AI\n"
     ]
    }
   ],
   "source": [
    "print(\"Hope AI\")"
   ]
  },
  {
   "cell_type": "code",
   "execution_count": 3,
   "id": "577f10da",
   "metadata": {},
   "outputs": [],
   "source": [
    "# Buy Inputs"
   ]
  },
  {
   "cell_type": "code",
   "execution_count": 5,
   "id": "2cdf68f7",
   "metadata": {},
   "outputs": [
    {
     "name": "stdout",
     "output_type": "stream",
     "text": [
      "Enter your Institue Name: HOPE AI\n",
      "HOPE AI\n"
     ]
    }
   ],
   "source": [
    "input_value = (input(\"Enter your Institue Name: \"))\n",
    "print(input_value)"
   ]
  },
  {
   "cell_type": "code",
   "execution_count": 6,
   "id": "b6dedf9c",
   "metadata": {},
   "outputs": [],
   "source": [
    "# Buy Inputs"
   ]
  },
  {
   "cell_type": "code",
   "execution_count": 7,
   "id": "43ec7d0f",
   "metadata": {},
   "outputs": [
    {
     "name": "stdout",
     "output_type": "stream",
     "text": [
      "Enter your Name: Raj\n",
      "Enter your age:15\n",
      "Enter your School Name:Guru School\n",
      "Enter your Degree: B.E CSE\n"
     ]
    }
   ],
   "source": [
    "name = (input (\"Enter your Name: \"))\n",
    "age = int(input(\"Enter your age:\"))\n",
    "school_name= (input(\"Enter your School Name:\"))\n",
    "degree=(input(\"Enter your Degree: \"))\n"
   ]
  },
  {
   "cell_type": "code",
   "execution_count": 8,
   "id": "43a9ba18",
   "metadata": {},
   "outputs": [],
   "source": [
    "# Addition\n"
   ]
  },
  {
   "cell_type": "code",
   "execution_count": 13,
   "id": "c46555a2",
   "metadata": {},
   "outputs": [
    {
     "name": "stdout",
     "output_type": "stream",
     "text": [
      "a= 43\n",
      "b= 34\n",
      "add= 77\n"
     ]
    }
   ],
   "source": [
    "a=43\n",
    "b=34\n",
    "add=a+b\n",
    "print(\"a=\", a)\n",
    "print(\"b=\",b)\n",
    "print(\"add=\",add)"
   ]
  },
  {
   "cell_type": "code",
   "execution_count": 14,
   "id": "9f88aff6",
   "metadata": {},
   "outputs": [],
   "source": [
    "#subtraction"
   ]
  },
  {
   "cell_type": "code",
   "execution_count": 16,
   "id": "9dcc7212",
   "metadata": {},
   "outputs": [
    {
     "name": "stdout",
     "output_type": "stream",
     "text": [
      "a= 43\n",
      "b= 34\n",
      "Sub= 9\n"
     ]
    }
   ],
   "source": [
    "a=43\n",
    "b=34\n",
    "sub=a-b\n",
    "print(\"a=\", a)\n",
    "print(\"b=\",b)\n",
    "print(\"Sub=\",sub)"
   ]
  },
  {
   "cell_type": "code",
   "execution_count": 17,
   "id": "bbea0bc0",
   "metadata": {},
   "outputs": [],
   "source": [
    "# Multiplication"
   ]
  },
  {
   "cell_type": "code",
   "execution_count": 18,
   "id": "f21dc3b2",
   "metadata": {},
   "outputs": [
    {
     "name": "stdout",
     "output_type": "stream",
     "text": [
      "a= 63\n",
      "b= 97\n",
      "Mul= 6111\n"
     ]
    }
   ],
   "source": [
    "a=63\n",
    "b=97\n",
    "mul=a*b\n",
    "print(\"a=\", a)\n",
    "print(\"b=\",b)\n",
    "print(\"Mul=\",mul)"
   ]
  },
  {
   "cell_type": "code",
   "execution_count": 24,
   "id": "e90f6385",
   "metadata": {},
   "outputs": [],
   "source": [
    "# Division"
   ]
  },
  {
   "cell_type": "code",
   "execution_count": 23,
   "id": "f528e8d2",
   "metadata": {},
   "outputs": [
    {
     "name": "stdout",
     "output_type": "stream",
     "text": [
      "a= 76\n",
      "b= 31\n",
      "Float Div= 2.4516129032258065\n"
     ]
    }
   ],
   "source": [
    "a=76\n",
    "b=31\n",
    "Div=float(a/b)\n",
    "print(\"a=\", a)\n",
    "print(\"b=\",b)\n",
    "print(\"Float Div=\",Div)"
   ]
  },
  {
   "cell_type": "code",
   "execution_count": 21,
   "id": "ea4725c6",
   "metadata": {},
   "outputs": [],
   "source": [
    "# Floor Division"
   ]
  },
  {
   "cell_type": "code",
   "execution_count": 22,
   "id": "f38b3d26",
   "metadata": {},
   "outputs": [
    {
     "name": "stdout",
     "output_type": "stream",
     "text": [
      "a= 76\n",
      "b= 31\n",
      "Float Div= 2\n"
     ]
    }
   ],
   "source": [
    "a=76\n",
    "b=31\n",
    "Div_floor=a//b\n",
    "print(\"a=\", a)\n",
    "print(\"b=\",b)\n",
    "print(\"Float Div=\",Div_floor)"
   ]
  },
  {
   "cell_type": "code",
   "execution_count": null,
   "id": "38d605c6",
   "metadata": {},
   "outputs": [],
   "source": [
    "# Moduloa"
   ]
  },
  {
   "cell_type": "code",
   "execution_count": 27,
   "id": "47a3bac3",
   "metadata": {},
   "outputs": [
    {
     "name": "stdout",
     "output_type": "stream",
     "text": [
      "a= 76\n",
      "b= 31\n",
      "Modulo = 14\n"
     ]
    }
   ],
   "source": [
    "a=76\n",
    "b=31\n",
    "modulo=a%b\n",
    "print(\"a=\", a)\n",
    "print(\"b=\",b)\n",
    "print(\"Modulo =\",modulo)"
   ]
  },
  {
   "cell_type": "code",
   "execution_count": 30,
   "id": "52fbebaa",
   "metadata": {},
   "outputs": [],
   "source": [
    "# Power"
   ]
  },
  {
   "cell_type": "code",
   "execution_count": 31,
   "id": "1735d7aa",
   "metadata": {},
   "outputs": [
    {
     "name": "stdout",
     "output_type": "stream",
     "text": [
      "a= 4\n",
      "b= 4\n",
      "Power = 256\n"
     ]
    }
   ],
   "source": [
    "a=4\n",
    "b=4\n",
    "power=pow(a,b)\n",
    "print(\"a=\", a)\n",
    "print(\"b=\",b)\n",
    "print(\"Power =\",power)"
   ]
  },
  {
   "cell_type": "code",
   "execution_count": null,
   "id": "097b55db",
   "metadata": {},
   "outputs": [],
   "source": []
  }
 ],
 "metadata": {
  "kernelspec": {
   "display_name": "Python 3 (ipykernel)",
   "language": "python",
   "name": "python3"
  },
  "language_info": {
   "codemirror_mode": {
    "name": "ipython",
    "version": 3
   },
   "file_extension": ".py",
   "mimetype": "text/x-python",
   "name": "python",
   "nbconvert_exporter": "python",
   "pygments_lexer": "ipython3",
   "version": "3.11.5"
  }
 },
 "nbformat": 4,
 "nbformat_minor": 5
}
