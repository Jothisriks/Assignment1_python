{
 "cells": [
  {
   "cell_type": "code",
   "execution_count": null,
   "id": "cf25f28f",
   "metadata": {},
   "outputs": [],
   "source": [
    "# NAME : KS JOTHISRI \n"
   ]
  },
  {
   "cell_type": "code",
   "execution_count": 1,
   "id": "a97a52b9",
   "metadata": {},
   "outputs": [
    {
     "name": "stdout",
     "output_type": "stream",
     "text": [
      "Welcome to Assignment-1\n"
     ]
    }
   ],
   "source": [
    "print(\"Welcome to Assignment-1\")\n"
   ]
  },
  {
   "cell_type": "code",
   "execution_count": 2,
   "id": "b0fbfd3f",
   "metadata": {},
   "outputs": [
    {
     "name": "stdout",
     "output_type": "stream",
     "text": [
      "Num1= 10\n",
      "Num2= 30\n",
      "Add= 40\n"
     ]
    }
   ],
   "source": [
    "Num1=10\n",
    "Num2=30\n",
    "Add=Num1+Num2\n",
    "print(\"Num1=\",Num1)\n",
    "print(\"Num2=\",Num2)\n",
    "print(\"Add=\",Add)"
   ]
  },
  {
   "cell_type": "code",
   "execution_count": null,
   "id": "e8ad0281",
   "metadata": {},
   "outputs": [],
   "source": [
    "\"\"\"\n",
    "Body Mass Index\n",
    "BMI<18.5=Under Weight\n",
    "BMI<24.9=Normal\n",
    "BMI<29.9=OverWeight\n",
    "BMI<34.9=Very Overweight\n",
    "BMI<35=Extremely Obese\n",
    "\"\"\"\n",
    "\n"
   ]
  },
  {
   "cell_type": "code",
   "execution_count": 5,
   "id": "4f05148d",
   "metadata": {},
   "outputs": [
    {
     "name": "stdout",
     "output_type": "stream",
     "text": [
      "Enter your BMI Index:34\n",
      "Very Overweight\n"
     ]
    }
   ],
   "source": [
    "BMI=int(input(\"Enter your BMI Index:\"))\n",
    "if (BMI<18.5):\n",
    "    print(\"Under Weight\")\n",
    "elif(BMI<24.9):\n",
    "    print(\"Normal\")\n",
    "elif(BMI<29.9):\n",
    "    print(\"Overweight\")\n",
    "elif(BMI<34.9):\n",
    "    print(\"Very Overweight\")\n",
    "else:\n",
    "    print(\"Extremely Obese\")"
   ]
  },
  {
   "cell_type": "code",
   "execution_count": null,
   "id": "d9f88f45",
   "metadata": {},
   "outputs": [],
   "source": []
  },
  {
   "cell_type": "code",
   "execution_count": null,
   "id": "cb5c9c78",
   "metadata": {},
   "outputs": [],
   "source": []
  }
 ],
 "metadata": {
  "kernelspec": {
   "display_name": "Python 3 (ipykernel)",
   "language": "python",
   "name": "python3"
  },
  "language_info": {
   "codemirror_mode": {
    "name": "ipython",
    "version": 3
   },
   "file_extension": ".py",
   "mimetype": "text/x-python",
   "name": "python",
   "nbconvert_exporter": "python",
   "pygments_lexer": "ipython3",
   "version": "3.11.5"
  }
 },
 "nbformat": 4,
 "nbformat_minor": 5
}
